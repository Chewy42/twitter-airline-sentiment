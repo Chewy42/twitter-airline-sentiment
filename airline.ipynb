{
 "cells": [
  {
   "cell_type": "code",
   "execution_count": 8,
   "outputs": [],
   "source": [
    "# Playing around with data\n",
    "# (c) copyright 2023 - Matthew Favela\n",
    "#\n",
    "# License: MIT License"
   ],
   "metadata": {
    "collapsed": false
   }
  },
  {
   "cell_type": "code",
   "execution_count": 9,
   "metadata": {
    "collapsed": true
   },
   "outputs": [],
   "source": [
    "import pandas as pd\n",
    "import numpy as np\n",
    "from sklearn.preprocessing import LabelEncoder, StandardScaler"
   ]
  },
  {
   "cell_type": "code",
   "execution_count": 10,
   "outputs": [
    {
     "data": {
      "text/plain": "  airline_sentiment  airline_sentiment_confidence negativereason  \\\n0           neutral                        1.0000            NaN   \n1          positive                        0.3486            NaN   \n2           neutral                        0.6837            NaN   \n3          negative                        1.0000     Bad Flight   \n4          negative                        1.0000     Can't Tell   \n\n   negativereason_confidence         airline airline_sentiment_gold  \\\n0                        NaN  Virgin America                    NaN   \n1                     0.0000  Virgin America                    NaN   \n2                        NaN  Virgin America                    NaN   \n3                     0.7033  Virgin America                    NaN   \n4                     1.0000  Virgin America                    NaN   \n\n  negativereason_gold                                               text  \\\n0                 NaN                @VirginAmerica What @dhepburn said.   \n1                 NaN  @VirginAmerica plus you've added commercials t...   \n2                 NaN  @VirginAmerica I didn't today... Must mean I n...   \n3                 NaN  @VirginAmerica it's really aggressive to blast...   \n4                 NaN  @VirginAmerica and it's a really big bad thing...   \n\n  tweet_location               user_timezone  \n0            NaN  Eastern Time (US & Canada)  \n1            NaN  Pacific Time (US & Canada)  \n2      Lets Play  Central Time (US & Canada)  \n3            NaN  Pacific Time (US & Canada)  \n4            NaN  Pacific Time (US & Canada)  ",
      "text/html": "<div>\n<style scoped>\n    .dataframe tbody tr th:only-of-type {\n        vertical-align: middle;\n    }\n\n    .dataframe tbody tr th {\n        vertical-align: top;\n    }\n\n    .dataframe thead th {\n        text-align: right;\n    }\n</style>\n<table border=\"1\" class=\"dataframe\">\n  <thead>\n    <tr style=\"text-align: right;\">\n      <th></th>\n      <th>airline_sentiment</th>\n      <th>airline_sentiment_confidence</th>\n      <th>negativereason</th>\n      <th>negativereason_confidence</th>\n      <th>airline</th>\n      <th>airline_sentiment_gold</th>\n      <th>negativereason_gold</th>\n      <th>text</th>\n      <th>tweet_location</th>\n      <th>user_timezone</th>\n    </tr>\n  </thead>\n  <tbody>\n    <tr>\n      <th>0</th>\n      <td>neutral</td>\n      <td>1.0000</td>\n      <td>NaN</td>\n      <td>NaN</td>\n      <td>Virgin America</td>\n      <td>NaN</td>\n      <td>NaN</td>\n      <td>@VirginAmerica What @dhepburn said.</td>\n      <td>NaN</td>\n      <td>Eastern Time (US &amp; Canada)</td>\n    </tr>\n    <tr>\n      <th>1</th>\n      <td>positive</td>\n      <td>0.3486</td>\n      <td>NaN</td>\n      <td>0.0000</td>\n      <td>Virgin America</td>\n      <td>NaN</td>\n      <td>NaN</td>\n      <td>@VirginAmerica plus you've added commercials t...</td>\n      <td>NaN</td>\n      <td>Pacific Time (US &amp; Canada)</td>\n    </tr>\n    <tr>\n      <th>2</th>\n      <td>neutral</td>\n      <td>0.6837</td>\n      <td>NaN</td>\n      <td>NaN</td>\n      <td>Virgin America</td>\n      <td>NaN</td>\n      <td>NaN</td>\n      <td>@VirginAmerica I didn't today... Must mean I n...</td>\n      <td>Lets Play</td>\n      <td>Central Time (US &amp; Canada)</td>\n    </tr>\n    <tr>\n      <th>3</th>\n      <td>negative</td>\n      <td>1.0000</td>\n      <td>Bad Flight</td>\n      <td>0.7033</td>\n      <td>Virgin America</td>\n      <td>NaN</td>\n      <td>NaN</td>\n      <td>@VirginAmerica it's really aggressive to blast...</td>\n      <td>NaN</td>\n      <td>Pacific Time (US &amp; Canada)</td>\n    </tr>\n    <tr>\n      <th>4</th>\n      <td>negative</td>\n      <td>1.0000</td>\n      <td>Can't Tell</td>\n      <td>1.0000</td>\n      <td>Virgin America</td>\n      <td>NaN</td>\n      <td>NaN</td>\n      <td>@VirginAmerica and it's a really big bad thing...</td>\n      <td>NaN</td>\n      <td>Pacific Time (US &amp; Canada)</td>\n    </tr>\n  </tbody>\n</table>\n</div>"
     },
     "execution_count": 10,
     "metadata": {},
     "output_type": "execute_result"
    }
   ],
   "source": [
    "#read from TEST.csv and drop null rows\n",
    "df = pd.read_csv('TEST.csv')\n",
    "df = df[['airline_sentiment', 'airline_sentiment_confidence','negativereason', 'negativereason_confidence', 'airline', 'airline_sentiment_gold', 'negativereason_gold', 'text','tweet_location', 'user_timezone']]\n",
    "df.head()"
   ],
   "metadata": {
    "collapsed": false
   }
  },
  {
   "cell_type": "code",
   "execution_count": 11,
   "outputs": [],
   "source": [
    "le = LabelEncoder()"
   ],
   "metadata": {
    "collapsed": false
   }
  },
  {
   "cell_type": "code",
   "execution_count": 13,
   "outputs": [],
   "source": [
    "df[['airline_sentiment', 'negativereason', 'airline', 'negativereason_gold', 'user_timezone']] = df[['airline_sentiment', 'negativereason', 'airline', 'negativereason_gold', 'user_timezone']].apply(le.fit_transform)"
   ],
   "metadata": {
    "collapsed": false
   }
  },
  {
   "cell_type": "code",
   "execution_count": 15,
   "outputs": [
    {
     "data": {
      "text/plain": "   airline_sentiment  airline_sentiment_confidence  negativereason  \\\n0                  1                        1.0000              10   \n1                  2                        0.3486              10   \n2                  1                        0.6837              10   \n3                  0                        1.0000               0   \n4                  0                        1.0000               1   \n\n   negativereason_confidence  airline airline_sentiment_gold  \\\n0                        NaN        5                    NaN   \n1                     0.0000        5                    NaN   \n2                        NaN        5                    NaN   \n3                     0.7033        5                    NaN   \n4                     1.0000        5                    NaN   \n\n   negativereason_gold                                               text  \\\n0                   13                @VirginAmerica What @dhepburn said.   \n1                   13  @VirginAmerica plus you've added commercials t...   \n2                   13  @VirginAmerica I didn't today... Must mean I n...   \n3                   13  @VirginAmerica it's really aggressive to blast...   \n4                   13  @VirginAmerica and it's a really big bad thing...   \n\n  tweet_location  user_timezone  \n0            NaN             31  \n1            NaN             62  \n2      Lets Play             27  \n3            NaN             62  \n4            NaN             62  ",
      "text/html": "<div>\n<style scoped>\n    .dataframe tbody tr th:only-of-type {\n        vertical-align: middle;\n    }\n\n    .dataframe tbody tr th {\n        vertical-align: top;\n    }\n\n    .dataframe thead th {\n        text-align: right;\n    }\n</style>\n<table border=\"1\" class=\"dataframe\">\n  <thead>\n    <tr style=\"text-align: right;\">\n      <th></th>\n      <th>airline_sentiment</th>\n      <th>airline_sentiment_confidence</th>\n      <th>negativereason</th>\n      <th>negativereason_confidence</th>\n      <th>airline</th>\n      <th>airline_sentiment_gold</th>\n      <th>negativereason_gold</th>\n      <th>text</th>\n      <th>tweet_location</th>\n      <th>user_timezone</th>\n    </tr>\n  </thead>\n  <tbody>\n    <tr>\n      <th>0</th>\n      <td>1</td>\n      <td>1.0000</td>\n      <td>10</td>\n      <td>NaN</td>\n      <td>5</td>\n      <td>NaN</td>\n      <td>13</td>\n      <td>@VirginAmerica What @dhepburn said.</td>\n      <td>NaN</td>\n      <td>31</td>\n    </tr>\n    <tr>\n      <th>1</th>\n      <td>2</td>\n      <td>0.3486</td>\n      <td>10</td>\n      <td>0.0000</td>\n      <td>5</td>\n      <td>NaN</td>\n      <td>13</td>\n      <td>@VirginAmerica plus you've added commercials t...</td>\n      <td>NaN</td>\n      <td>62</td>\n    </tr>\n    <tr>\n      <th>2</th>\n      <td>1</td>\n      <td>0.6837</td>\n      <td>10</td>\n      <td>NaN</td>\n      <td>5</td>\n      <td>NaN</td>\n      <td>13</td>\n      <td>@VirginAmerica I didn't today... Must mean I n...</td>\n      <td>Lets Play</td>\n      <td>27</td>\n    </tr>\n    <tr>\n      <th>3</th>\n      <td>0</td>\n      <td>1.0000</td>\n      <td>0</td>\n      <td>0.7033</td>\n      <td>5</td>\n      <td>NaN</td>\n      <td>13</td>\n      <td>@VirginAmerica it's really aggressive to blast...</td>\n      <td>NaN</td>\n      <td>62</td>\n    </tr>\n    <tr>\n      <th>4</th>\n      <td>0</td>\n      <td>1.0000</td>\n      <td>1</td>\n      <td>1.0000</td>\n      <td>5</td>\n      <td>NaN</td>\n      <td>13</td>\n      <td>@VirginAmerica and it's a really big bad thing...</td>\n      <td>NaN</td>\n      <td>62</td>\n    </tr>\n  </tbody>\n</table>\n</div>"
     },
     "execution_count": 15,
     "metadata": {},
     "output_type": "execute_result"
    }
   ],
   "source": [
    "df.head()"
   ],
   "metadata": {
    "collapsed": false
   }
  },
  {
   "cell_type": "code",
   "execution_count": null,
   "outputs": [],
   "source": [],
   "metadata": {
    "collapsed": false
   }
  }
 ],
 "metadata": {
  "kernelspec": {
   "display_name": "Python 3",
   "language": "python",
   "name": "python3"
  },
  "language_info": {
   "codemirror_mode": {
    "name": "ipython",
    "version": 2
   },
   "file_extension": ".py",
   "mimetype": "text/x-python",
   "name": "python",
   "nbconvert_exporter": "python",
   "pygments_lexer": "ipython2",
   "version": "2.7.6"
  }
 },
 "nbformat": 4,
 "nbformat_minor": 0
}
